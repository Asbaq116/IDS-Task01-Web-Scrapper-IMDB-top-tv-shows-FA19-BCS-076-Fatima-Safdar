{
  "nbformat": 4,
  "nbformat_minor": 0,
  "metadata": {
    "colab": {
      "provenance": []
    },
    "kernelspec": {
      "name": "python3",
      "display_name": "Python 3"
    },
    "language_info": {
      "name": "python"
    }
  },
  "cells": [
    {
      "cell_type": "code",
      "execution_count": 2,
      "metadata": {
        "id": "2EIS1aac583I"
      },
      "outputs": [],
      "source": [
        "#import important libraries\n",
        "\n",
        "import requests\n",
        "from bs4 import BeautifulSoup"
      ]
    },
    {
      "cell_type": "code",
      "source": [
        "#a simple web scrapper to fetch all the \"top tv shows\" from the imdb website.\n",
        "\n",
        "response = requests.get(\"https://www.imdb.com/chart/toptv/\")\n",
        "soup = BeautifulSoup(response.content, 'html5lib')\n",
        "\n",
        "shows = soup.find('tbody', class_=\"lister-list\").find_all('tr')\n",
        "\n",
        "for show in shows:\n",
        "  \n",
        "  rank = show.find('td', class_=\"titleColumn\").get_text(strip=True).split('.')[0]\n",
        "\n",
        "  name = show.find('td', class_=\"titleColumn\").a.text\n",
        "\n",
        "  year = show.find('td', class_=\"titleColumn\").span.text.strip('()')\n",
        "\n",
        "  rating = show.find('td', class_=\"ratingColumn imdbRating\").strong.text\n",
        "\n",
        "  print(rank,name,year,rating)"
      ],
      "metadata": {
        "id": "fp38lbCy3G-9"
      },
      "execution_count": null,
      "outputs": []
    }
  ]
}